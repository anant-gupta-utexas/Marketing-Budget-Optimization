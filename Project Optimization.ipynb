{
 "cells": [
  {
   "cell_type": "code",
   "execution_count": 2,
   "metadata": {},
   "outputs": [],
   "source": [
    "import numpy as np\n",
    "import gurobipy as gp\n",
    "import pandas as pd"
   ]
  },
  {
   "cell_type": "markdown",
   "metadata": {},
   "source": [
    "# Question 3"
   ]
  },
  {
   "cell_type": "code",
   "execution_count": 45,
   "metadata": {},
   "outputs": [
    {
     "data": {
      "text/html": [
       "<div>\n",
       "<style scoped>\n",
       "    .dataframe tbody tr th:only-of-type {\n",
       "        vertical-align: middle;\n",
       "    }\n",
       "\n",
       "    .dataframe tbody tr th {\n",
       "        vertical-align: top;\n",
       "    }\n",
       "\n",
       "    .dataframe thead th {\n",
       "        text-align: right;\n",
       "    }\n",
       "</style>\n",
       "<table border=\"1\" class=\"dataframe\">\n",
       "  <thead>\n",
       "    <tr style=\"text-align: right;\">\n",
       "      <th></th>\n",
       "      <th>Print</th>\n",
       "      <th>TV</th>\n",
       "      <th>SEO</th>\n",
       "      <th>AdWords</th>\n",
       "      <th>Facebook</th>\n",
       "      <th>LinkedIn</th>\n",
       "      <th>Instagram</th>\n",
       "      <th>Snapchat</th>\n",
       "      <th>Twitter</th>\n",
       "      <th>Email</th>\n",
       "    </tr>\n",
       "  </thead>\n",
       "  <tbody>\n",
       "    <tr>\n",
       "      <th>January</th>\n",
       "      <td>0.040</td>\n",
       "      <td>0.036</td>\n",
       "      <td>0.024</td>\n",
       "      <td>0.039</td>\n",
       "      <td>0.030</td>\n",
       "      <td>0.035</td>\n",
       "      <td>0.036</td>\n",
       "      <td>0.0225</td>\n",
       "      <td>0.035</td>\n",
       "      <td>0.035</td>\n",
       "    </tr>\n",
       "    <tr>\n",
       "      <th>February</th>\n",
       "      <td>0.040</td>\n",
       "      <td>0.039</td>\n",
       "      <td>0.027</td>\n",
       "      <td>0.038</td>\n",
       "      <td>0.043</td>\n",
       "      <td>0.032</td>\n",
       "      <td>0.027</td>\n",
       "      <td>0.0180</td>\n",
       "      <td>0.037</td>\n",
       "      <td>0.035</td>\n",
       "    </tr>\n",
       "    <tr>\n",
       "      <th>March</th>\n",
       "      <td>0.035</td>\n",
       "      <td>0.029</td>\n",
       "      <td>0.031</td>\n",
       "      <td>0.038</td>\n",
       "      <td>0.024</td>\n",
       "      <td>0.041</td>\n",
       "      <td>0.037</td>\n",
       "      <td>0.0260</td>\n",
       "      <td>0.042</td>\n",
       "      <td>0.025</td>\n",
       "    </tr>\n",
       "    <tr>\n",
       "      <th>April</th>\n",
       "      <td>0.038</td>\n",
       "      <td>0.031</td>\n",
       "      <td>0.024</td>\n",
       "      <td>0.044</td>\n",
       "      <td>0.024</td>\n",
       "      <td>0.038</td>\n",
       "      <td>0.037</td>\n",
       "      <td>0.0250</td>\n",
       "      <td>0.036</td>\n",
       "      <td>0.029</td>\n",
       "    </tr>\n",
       "    <tr>\n",
       "      <th>May</th>\n",
       "      <td>0.035</td>\n",
       "      <td>0.032</td>\n",
       "      <td>0.019</td>\n",
       "      <td>0.034</td>\n",
       "      <td>0.027</td>\n",
       "      <td>0.027</td>\n",
       "      <td>0.039</td>\n",
       "      <td>0.0220</td>\n",
       "      <td>0.045</td>\n",
       "      <td>0.039</td>\n",
       "    </tr>\n",
       "    <tr>\n",
       "      <th>June</th>\n",
       "      <td>0.040</td>\n",
       "      <td>0.032</td>\n",
       "      <td>0.027</td>\n",
       "      <td>0.034</td>\n",
       "      <td>0.034</td>\n",
       "      <td>0.030</td>\n",
       "      <td>0.045</td>\n",
       "      <td>0.0210</td>\n",
       "      <td>0.038</td>\n",
       "      <td>0.041</td>\n",
       "    </tr>\n",
       "    <tr>\n",
       "      <th>July</th>\n",
       "      <td>0.039</td>\n",
       "      <td>0.036</td>\n",
       "      <td>0.020</td>\n",
       "      <td>0.044</td>\n",
       "      <td>0.039</td>\n",
       "      <td>0.037</td>\n",
       "      <td>0.043</td>\n",
       "      <td>0.0180</td>\n",
       "      <td>0.040</td>\n",
       "      <td>0.038</td>\n",
       "    </tr>\n",
       "    <tr>\n",
       "      <th>August</th>\n",
       "      <td>0.042</td>\n",
       "      <td>0.033</td>\n",
       "      <td>0.028</td>\n",
       "      <td>0.042</td>\n",
       "      <td>0.020</td>\n",
       "      <td>0.037</td>\n",
       "      <td>0.036</td>\n",
       "      <td>0.0150</td>\n",
       "      <td>0.044</td>\n",
       "      <td>0.043</td>\n",
       "    </tr>\n",
       "    <tr>\n",
       "      <th>September</th>\n",
       "      <td>0.041</td>\n",
       "      <td>0.028</td>\n",
       "      <td>0.025</td>\n",
       "      <td>0.042</td>\n",
       "      <td>0.029</td>\n",
       "      <td>0.037</td>\n",
       "      <td>0.028</td>\n",
       "      <td>0.0250</td>\n",
       "      <td>0.040</td>\n",
       "      <td>0.034</td>\n",
       "    </tr>\n",
       "    <tr>\n",
       "      <th>October</th>\n",
       "      <td>0.030</td>\n",
       "      <td>0.030</td>\n",
       "      <td>0.031</td>\n",
       "      <td>0.046</td>\n",
       "      <td>0.031</td>\n",
       "      <td>0.033</td>\n",
       "      <td>0.032</td>\n",
       "      <td>0.0230</td>\n",
       "      <td>0.025</td>\n",
       "      <td>0.032</td>\n",
       "    </tr>\n",
       "    <tr>\n",
       "      <th>November</th>\n",
       "      <td>0.048</td>\n",
       "      <td>0.033</td>\n",
       "      <td>0.027</td>\n",
       "      <td>0.041</td>\n",
       "      <td>0.029</td>\n",
       "      <td>0.036</td>\n",
       "      <td>0.042</td>\n",
       "      <td>0.0300</td>\n",
       "      <td>0.031</td>\n",
       "      <td>0.041</td>\n",
       "    </tr>\n",
       "    <tr>\n",
       "      <th>December</th>\n",
       "      <td>0.048</td>\n",
       "      <td>0.040</td>\n",
       "      <td>0.019</td>\n",
       "      <td>0.037</td>\n",
       "      <td>0.042</td>\n",
       "      <td>0.036</td>\n",
       "      <td>0.026</td>\n",
       "      <td>0.0290</td>\n",
       "      <td>0.036</td>\n",
       "      <td>0.037</td>\n",
       "    </tr>\n",
       "  </tbody>\n",
       "</table>\n",
       "</div>"
      ],
      "text/plain": [
       "           Print     TV    SEO  AdWords  Facebook  LinkedIn  Instagram  \\\n",
       "January    0.040  0.036  0.024    0.039     0.030     0.035      0.036   \n",
       "February   0.040  0.039  0.027    0.038     0.043     0.032      0.027   \n",
       "March      0.035  0.029  0.031    0.038     0.024     0.041      0.037   \n",
       "April      0.038  0.031  0.024    0.044     0.024     0.038      0.037   \n",
       "May        0.035  0.032  0.019    0.034     0.027     0.027      0.039   \n",
       "June       0.040  0.032  0.027    0.034     0.034     0.030      0.045   \n",
       "July       0.039  0.036  0.020    0.044     0.039     0.037      0.043   \n",
       "August     0.042  0.033  0.028    0.042     0.020     0.037      0.036   \n",
       "September  0.041  0.028  0.025    0.042     0.029     0.037      0.028   \n",
       "October    0.030  0.030  0.031    0.046     0.031     0.033      0.032   \n",
       "November   0.048  0.033  0.027    0.041     0.029     0.036      0.042   \n",
       "December   0.048  0.040  0.019    0.037     0.042     0.036      0.026   \n",
       "\n",
       "           Snapchat  Twitter  Email  \n",
       "January      0.0225    0.035  0.035  \n",
       "February     0.0180    0.037  0.035  \n",
       "March        0.0260    0.042  0.025  \n",
       "April        0.0250    0.036  0.029  \n",
       "May          0.0220    0.045  0.039  \n",
       "June         0.0210    0.038  0.041  \n",
       "July         0.0180    0.040  0.038  \n",
       "August       0.0150    0.044  0.043  \n",
       "September    0.0250    0.040  0.034  \n",
       "October      0.0230    0.025  0.032  \n",
       "November     0.0300    0.031  0.041  \n",
       "December     0.0290    0.036  0.037  "
      ]
     },
     "execution_count": 45,
     "metadata": {},
     "output_type": "execute_result"
    }
   ],
   "source": [
    "df1 = pd.read_csv('roi_mat.csv', index_col = ['Unnamed: 0'])\n",
    "df1 = df1/100\n",
    "df1"
   ]
  },
  {
   "cell_type": "code",
   "execution_count": 3,
   "metadata": {},
   "outputs": [],
   "source": [
    "df = pd.read_csv('ROI_data.csv')"
   ]
  },
  {
   "cell_type": "code",
   "execution_count": 29,
   "metadata": {},
   "outputs": [],
   "source": [
    "obj = np.array([.031, .049, .024, .039, .016, .024, .046, .026, .033, .044]) # objective vector\n",
    "A = np.zeros((13,10)) \n",
    "A[0,:] = [1,1,1,1,1,1,1,1,1,1] \n",
    "A[1,:] = [1,0,0,0,0,0,0,0,0,0] \n",
    "A[2,:] = [0,1,0,0,0,0,0,0,0,0] \n",
    "A[3,:] = [0,0,1,0,0,0,0,0,0,0] \n",
    "A[4,:] = [0,0,0,1,0,0,0,0,0,0] \n",
    "A[5,:] = [0,0,0,0,1,0,0,0,0,0] \n",
    "A[6,:] = [0,0,0,0,0,1,0,0,0,0] \n",
    "A[7,:] = [0,0,0,0,0,0,1,0,0,0] \n",
    "A[8,:] = [0,0,0,0,0,0,0,1,0,0] \n",
    "A[9,:] = [0,0,0,0,0,0,0,0,1,0] \n",
    "A[10,:] = [0,0,0,0,0,0,0,0,0,1] \n",
    "A[11,:] = [1,1,0,0,-1,0,0,0,0,-1] \n",
    "A[12,:] = [0,0,2,2,-1,-1,-1,-1,-1,0] \n",
    "\n",
    "b = np.array([10,3,3,3,3,3,3,3,3,3,3,0,0]) \n",
    "sense = np.array(['<', '<', '<', '<', '<', '<', '<', '<', '<', '<', '<', '<', '<']) "
   ]
  },
  {
   "cell_type": "code",
   "execution_count": 30,
   "metadata": {},
   "outputs": [],
   "source": [
    "ojModel = gp.Model() \n",
    "ojModX = ojModel.addMVar(10)\n",
    "ojModCon = ojModel.addMConstrs(A, ojModX, sense, b)\n",
    "ojModel.setMObjective(None,obj,0,sense=gp.GRB.MAXIMIZE)\n",
    "ojModel.Params.OutputFlag = 0 "
   ]
  },
  {
   "cell_type": "code",
   "execution_count": 31,
   "metadata": {},
   "outputs": [],
   "source": [
    "ojModel.optimize()"
   ]
  },
  {
   "cell_type": "code",
   "execution_count": 32,
   "metadata": {},
   "outputs": [
    {
     "data": {
      "text/plain": [
       "0.45600000000000007"
      ]
     },
     "execution_count": 32,
     "metadata": {},
     "output_type": "execute_result"
    }
   ],
   "source": [
    "ojModel.objVal"
   ]
  },
  {
   "cell_type": "code",
   "execution_count": 33,
   "metadata": {},
   "outputs": [
    {
     "data": {
      "text/plain": [
       "array([0., 3., 0., 1., 0., 0., 3., 0., 0., 3.])"
      ]
     },
     "execution_count": 33,
     "metadata": {},
     "output_type": "execute_result"
    }
   ],
   "source": [
    "ojModX.x"
   ]
  },
  {
   "cell_type": "code",
   "execution_count": 35,
   "metadata": {},
   "outputs": [
    {
     "data": {
      "text/plain": [
       "array([0., 3., 0., 1., 0., 0., 3., 0., 0., 3.])"
      ]
     },
     "execution_count": 35,
     "metadata": {},
     "output_type": "execute_result"
    }
   ],
   "source": [
    "allocation = ojModX.x\n",
    "allocation"
   ]
  },
  {
   "cell_type": "markdown",
   "metadata": {},
   "source": [
    "# Question 4"
   ]
  },
  {
   "cell_type": "code",
   "execution_count": 61,
   "metadata": {},
   "outputs": [],
   "source": [
    "obj = np.array([.049, .023, .024, .039, .044, .046, .026, .019, .037, .026]) # objective vector\n",
    "A = np.zeros((13,10)) \n",
    "A[0,:] = [1,1,1,1,1,1,1,1,1,1] \n",
    "A[1,:] = [1,0,0,0,0,0,0,0,0,0] \n",
    "A[2,:] = [0,1,0,0,0,0,0,0,0,0] \n",
    "A[3,:] = [0,0,1,0,0,0,0,0,0,0] \n",
    "A[4,:] = [0,0,0,1,0,0,0,0,0,0] \n",
    "A[5,:] = [0,0,0,0,1,0,0,0,0,0] \n",
    "A[6,:] = [0,0,0,0,0,1,0,0,0,0] \n",
    "A[7,:] = [0,0,0,0,0,0,1,0,0,0] \n",
    "A[8,:] = [0,0,0,0,0,0,0,1,0,0] \n",
    "A[9,:] = [0,0,0,0,0,0,0,0,1,0] \n",
    "A[10,:] = [0,0,0,0,0,0,0,0,0,1] \n",
    "A[11,:] = [1,1,0,0,-1,0,0,0,0,-1] \n",
    "A[12,:] = [0,0,2,2,-1,-1,-1,-1,-1,0] \n",
    "\n",
    "b = np.array([10,3,3,3,3,3,3,3,3,3,3,0,0]) \n",
    "sense = np.array(['<', '<', '<', '<', '<', '<', '<', '<', '<', '<', '<', '<', '<']) "
   ]
  },
  {
   "cell_type": "code",
   "execution_count": 62,
   "metadata": {},
   "outputs": [],
   "source": [
    "ojModel = gp.Model() \n",
    "ojModX = ojModel.addMVar(10)\n",
    "ojModCon = ojModel.addMConstrs(A, ojModX, sense, b)\n",
    "ojModel.setMObjective(None,obj,0,sense=gp.GRB.MAXIMIZE)\n",
    "ojModel.Params.OutputFlag = 0 "
   ]
  },
  {
   "cell_type": "code",
   "execution_count": 63,
   "metadata": {},
   "outputs": [],
   "source": [
    "ojModel.optimize()"
   ]
  },
  {
   "cell_type": "code",
   "execution_count": 64,
   "metadata": {},
   "outputs": [
    {
     "data": {
      "text/plain": [
       "0.45600000000000007"
      ]
     },
     "execution_count": 64,
     "metadata": {},
     "output_type": "execute_result"
    }
   ],
   "source": [
    "ojModel.objVal"
   ]
  },
  {
   "cell_type": "code",
   "execution_count": 65,
   "metadata": {},
   "outputs": [
    {
     "data": {
      "text/plain": [
       "array([3., 0., 0., 1., 3., 3., 0., 0., 0., 0.])"
      ]
     },
     "execution_count": 65,
     "metadata": {},
     "output_type": "execute_result"
    }
   ],
   "source": [
    "ojModX.x"
   ]
  },
  {
   "cell_type": "markdown",
   "metadata": {},
   "source": [
    "# Question 5"
   ]
  },
  {
   "cell_type": "code",
   "execution_count": null,
   "metadata": {},
   "outputs": [],
   "source": [
    "Yes, the allocations are same. Lower by 0.252 and 0.264\n",
    "\n",
    "Constraint 3 is useful only if we want to minimize risk and we have uncertainty regarding whether the ROI data we are\n",
    "utilizing is correct or not"
   ]
  },
  {
   "cell_type": "code",
   "execution_count": 66,
   "metadata": {},
   "outputs": [],
   "source": [
    "obj = np.array([.049, .023, .024, .039, .044, .046, .026, .019, .037, .026]) # objective vector\n",
    "A = np.zeros((13,10)) \n",
    "A[0,:] = [1,1,1,1,1,1,1,1,1,1] \n",
    "A[1,:] = [1,0,0,0,0,0,0,0,0,0] \n",
    "A[2,:] = [0,1,0,0,0,0,0,0,0,0] \n",
    "A[3,:] = [0,0,1,0,0,0,0,0,0,0] \n",
    "A[4,:] = [0,0,0,1,0,0,0,0,0,0] \n",
    "A[5,:] = [0,0,0,0,1,0,0,0,0,0] \n",
    "A[6,:] = [0,0,0,0,0,1,0,0,0,0]  \n",
    "A[7,:] = [0,0,0,0,0,0,1,0,0,0] \n",
    "A[8,:] = [0,0,0,0,0,0,0,1,0,0] \n",
    "A[9,:] = [0,0,0,0,0,0,0,0,1,0] \n",
    "A[10,:] = [0,0,0,0,0,0,0,0,0,1] \n",
    "A[11,:] = [1,1,0,0,-1,0,0,0,0,-1] \n",
    "A[12,:] = [0,0,2,2,-1,-1,-1,-1,-1,0] \n",
    "\n",
    "b = np.array([10,10,10,10,10,10,10,10,10,10,10,0,0]) \n",
    "sense = np.array(['<', '<', '<', '<', '<', '<', '<', '<', '<', '<', '<', '<', '<']) "
   ]
  },
  {
   "cell_type": "code",
   "execution_count": 67,
   "metadata": {},
   "outputs": [],
   "source": [
    "ojModel = gp.Model() \n",
    "ojModX = ojModel.addMVar(10)\n",
    "ojModCon = ojModel.addMConstrs(A, ojModX, sense, b)\n",
    "ojModel.setMObjective(None,obj,0,sense=gp.GRB.MAXIMIZE)\n",
    "ojModel.Params.OutputFlag = 0 "
   ]
  },
  {
   "cell_type": "code",
   "execution_count": 68,
   "metadata": {},
   "outputs": [],
   "source": [
    "ojModel.optimize()"
   ]
  },
  {
   "cell_type": "code",
   "execution_count": 69,
   "metadata": {},
   "outputs": [
    {
     "data": {
      "text/plain": [
       "0.46499999999999997"
      ]
     },
     "execution_count": 69,
     "metadata": {},
     "output_type": "execute_result"
    }
   ],
   "source": [
    "ojModel.objVal"
   ]
  },
  {
   "cell_type": "code",
   "execution_count": 70,
   "metadata": {},
   "outputs": [
    {
     "data": {
      "text/plain": [
       "array([5., 0., 0., 0., 5., 0., 0., 0., 0., 0.])"
      ]
     },
     "execution_count": 70,
     "metadata": {},
     "output_type": "execute_result"
    }
   ],
   "source": [
    "ojModX.x"
   ]
  },
  {
   "cell_type": "code",
   "execution_count": 71,
   "metadata": {},
   "outputs": [],
   "source": [
    "obj = np.array([.031, .049, .024, .039, .016, .024, .046, .026, .033, .044]) # objective vector\n",
    "A = np.zeros((13,10)) \n",
    "A[0,:] = [1,1,1,1,1,1,1,1,1,1] \n",
    "A[1,:] = [1,0,0,0,0,0,0,0,0,0] \n",
    "A[2,:] = [0,1,0,0,0,0,0,0,0,0] \n",
    "A[3,:] = [0,0,1,0,0,0,0,0,0,0] \n",
    "A[4,:] = [0,0,0,1,0,0,0,0,0,0] \n",
    "A[5,:] = [0,0,0,0,1,0,0,0,0,0] \n",
    "A[6,:] = [0,0,0,0,0,1,0,0,0,0] \n",
    "A[7,:] = [0,0,0,0,0,0,1,0,0,0] \n",
    "A[8,:] = [0,0,0,0,0,0,0,1,0,0] \n",
    "A[9,:] = [0,0,0,0,0,0,0,0,1,0] \n",
    "A[10,:] = [0,0,0,0,0,0,0,0,0,1] \n",
    "A[11,:] = [1,1,0,0,-1,0,0,0,0,-1] \n",
    "A[12,:] = [0,0,2,2,-1,-1,-1,-1,-1,0] \n",
    "\n",
    "b = np.array([10,10,10,10,10,10,10,10,10,10,10,0,0]) \n",
    "sense = np.array(['<', '<', '<', '<', '<', '<', '<', '<', '<', '<', '<', '<', '<']) "
   ]
  },
  {
   "cell_type": "code",
   "execution_count": 72,
   "metadata": {},
   "outputs": [],
   "source": [
    "ojModel = gp.Model() \n",
    "ojModX = ojModel.addMVar(10)\n",
    "ojModCon = ojModel.addMConstrs(A, ojModX, sense, b)\n",
    "ojModel.setMObjective(None,obj,0,sense=gp.GRB.MAXIMIZE)\n",
    "ojModel.Params.OutputFlag = 0 "
   ]
  },
  {
   "cell_type": "code",
   "execution_count": 73,
   "metadata": {},
   "outputs": [],
   "source": [
    "ojModel.optimize()"
   ]
  },
  {
   "cell_type": "code",
   "execution_count": 74,
   "metadata": {},
   "outputs": [
    {
     "data": {
      "text/plain": [
       "0.46499999999999997"
      ]
     },
     "execution_count": 74,
     "metadata": {},
     "output_type": "execute_result"
    }
   ],
   "source": [
    "ojModel.objVal"
   ]
  },
  {
   "cell_type": "code",
   "execution_count": 75,
   "metadata": {},
   "outputs": [
    {
     "data": {
      "text/plain": [
       "array([0., 5., 0., 0., 0., 0., 0., 0., 0., 5.])"
      ]
     },
     "execution_count": 75,
     "metadata": {},
     "output_type": "execute_result"
    }
   ],
   "source": [
    "ojModX.x"
   ]
  },
  {
   "cell_type": "markdown",
   "metadata": {},
   "source": [
    "# Question 6 "
   ]
  },
  {
   "cell_type": "code",
   "execution_count": 39,
   "metadata": {},
   "outputs": [
    {
     "data": {
      "text/html": [
       "<div>\n",
       "<style scoped>\n",
       "    .dataframe tbody tr th:only-of-type {\n",
       "        vertical-align: middle;\n",
       "    }\n",
       "\n",
       "    .dataframe tbody tr th {\n",
       "        vertical-align: top;\n",
       "    }\n",
       "\n",
       "    .dataframe thead th {\n",
       "        text-align: right;\n",
       "    }\n",
       "</style>\n",
       "<table border=\"1\" class=\"dataframe\">\n",
       "  <thead>\n",
       "    <tr style=\"text-align: right;\">\n",
       "      <th></th>\n",
       "      <th>min_roi</th>\n",
       "      <th>max_roi</th>\n",
       "      <th>original</th>\n",
       "    </tr>\n",
       "  </thead>\n",
       "  <tbody>\n",
       "    <tr>\n",
       "      <th>Print</th>\n",
       "      <td>0.000</td>\n",
       "      <td>0.048</td>\n",
       "      <td>0.031</td>\n",
       "    </tr>\n",
       "    <tr>\n",
       "      <th>TV</th>\n",
       "      <td>0.039</td>\n",
       "      <td>0.549</td>\n",
       "      <td>0.049</td>\n",
       "    </tr>\n",
       "    <tr>\n",
       "      <th>SEO</th>\n",
       "      <td>0.000</td>\n",
       "      <td>0.039</td>\n",
       "      <td>0.024</td>\n",
       "    </tr>\n",
       "    <tr>\n",
       "      <th>AdWords</th>\n",
       "      <td>0.034</td>\n",
       "      <td>0.045</td>\n",
       "      <td>0.039</td>\n",
       "    </tr>\n",
       "    <tr>\n",
       "      <th>Facebook</th>\n",
       "      <td>0.000</td>\n",
       "      <td>0.038</td>\n",
       "      <td>0.016</td>\n",
       "    </tr>\n",
       "    <tr>\n",
       "      <th>LinkedIn</th>\n",
       "      <td>0.000</td>\n",
       "      <td>0.038</td>\n",
       "      <td>0.024</td>\n",
       "    </tr>\n",
       "    <tr>\n",
       "      <th>Instagram</th>\n",
       "      <td>0.040</td>\n",
       "      <td>0.546</td>\n",
       "      <td>0.046</td>\n",
       "    </tr>\n",
       "    <tr>\n",
       "      <th>Snapchat</th>\n",
       "      <td>0.000</td>\n",
       "      <td>0.039</td>\n",
       "      <td>0.026</td>\n",
       "    </tr>\n",
       "    <tr>\n",
       "      <th>Twitter</th>\n",
       "      <td>0.000</td>\n",
       "      <td>0.038</td>\n",
       "      <td>0.033</td>\n",
       "    </tr>\n",
       "    <tr>\n",
       "      <th>Email</th>\n",
       "      <td>0.029</td>\n",
       "      <td>0.544</td>\n",
       "      <td>0.044</td>\n",
       "    </tr>\n",
       "  </tbody>\n",
       "</table>\n",
       "</div>"
      ],
      "text/plain": [
       "           min_roi  max_roi original\n",
       "Print        0.000    0.048    0.031\n",
       "TV           0.039    0.549    0.049\n",
       "SEO          0.000    0.039    0.024\n",
       "AdWords      0.034    0.045    0.039\n",
       "Facebook     0.000    0.038    0.016\n",
       "LinkedIn     0.000    0.038    0.024\n",
       "Instagram    0.040    0.546    0.046\n",
       "Snapchat     0.000    0.039    0.026\n",
       "Twitter      0.000    0.038    0.033\n",
       "Email        0.029    0.544    0.044"
      ]
     },
     "execution_count": 39,
     "metadata": {},
     "output_type": "execute_result"
    }
   ],
   "source": [
    "roi = pd.DataFrame(data = np.zeros((10,2)), columns = ['min_roi', 'max_roi'], index = df.iloc[0, 1:].index)\n",
    "\n",
    "A = np.zeros((13,10)) \n",
    "A[0,:] = [1,1,1,1,1,1,1,1,1,1] \n",
    "A[1,:] = [1,0,0,0,0,0,0,0,0,0] \n",
    "A[2,:] = [0,1,0,0,0,0,0,0,0,0] \n",
    "A[3,:] = [0,0,1,0,0,0,0,0,0,0] \n",
    "A[4,:] = [0,0,0,1,0,0,0,0,0,0] \n",
    "A[5,:] = [0,0,0,0,1,0,0,0,0,0] \n",
    "A[6,:] = [0,0,0,0,0,1,0,0,0,0] \n",
    "A[7,:] = [0,0,0,0,0,0,1,0,0,0] \n",
    "A[8,:] = [0,0,0,0,0,0,0,1,0,0] \n",
    "A[9,:] = [0,0,0,0,0,0,0,0,1,0] \n",
    "A[10,:] = [0,0,0,0,0,0,0,0,0,1] \n",
    "A[11,:] = [1,1,0,0,-1,0,0,0,0,-1] \n",
    "A[12,:] = [0,0,2,2,-1,-1,-1,-1,-1,0] \n",
    "\n",
    "b = np.array([10,3,3,3,3,3,3,3,3,3,3,0,0]) \n",
    "sense = np.array(['<', '<', '<', '<', '<', '<', '<', '<', '<', '<', '<', '<', '<']) \n",
    "\n",
    "for i in range(10):\n",
    "\n",
    "    for idx in range(1, 501, 1):\n",
    "\n",
    "        change = idx/1000\n",
    "\n",
    "        obj = np.array(df.iloc[0, 1:]) # objective vector\n",
    "        obj[i] = obj[i] + change\n",
    "\n",
    "        ojModel = gp.Model()\n",
    "\n",
    "        ojModX = ojModel.addMVar(len(obj))\n",
    "\n",
    "        ojModCon = ojModel.addMConstrs(A, ojModX, sense, b)\n",
    "        ojModel.setMObjective(None,obj,0,sense=gp.GRB.MAXIMIZE)\n",
    "\n",
    "        ojModel.Params.OutputFlag = 0\n",
    "        ojModel.optimize() # solve the LP\n",
    "        \n",
    "        if not np.all(ojModX.x == allocation):\n",
    "            break\n",
    "        else: \n",
    "            max_roi = obj[i]\n",
    "    \n",
    "    for idx in range(1, 101, 1):\n",
    "\n",
    "        change = idx/1000\n",
    "\n",
    "        obj = np.array(df.iloc[0, 1:]) # objective vector\n",
    "        obj[i] = obj[i] - change\n",
    "\n",
    "        ojModel = gp.Model()\n",
    "\n",
    "        ojModX = ojModel.addMVar(len(obj))\n",
    "\n",
    "        ojModCon = ojModel.addMConstrs(A, ojModX, sense, b)\n",
    "        ojModel.setMObjective(None,obj,0,sense=gp.GRB.MAXIMIZE)\n",
    "\n",
    "        ojModel.Params.OutputFlag = 0\n",
    "        ojModel.optimize() # solve the LP\n",
    "        \n",
    "        if (not np.all(ojModX.x == allocation)) | (obj[i] < 0):\n",
    "            break\n",
    "        else:\n",
    "            min_roi = round(obj[i], 3)\n",
    "            \n",
    "    roi.iloc[i,:] = [min_roi, max_roi]\n",
    "    \n",
    "roi['original'] = df.iloc[0, 1:]\n",
    "roi"
   ]
  },
  {
   "cell_type": "markdown",
   "metadata": {},
   "source": [
    "# Question 7"
   ]
  },
  {
   "cell_type": "code",
   "execution_count": 47,
   "metadata": {},
   "outputs": [
    {
     "data": {
      "text/html": [
       "<div>\n",
       "<style scoped>\n",
       "    .dataframe tbody tr th:only-of-type {\n",
       "        vertical-align: middle;\n",
       "    }\n",
       "\n",
       "    .dataframe tbody tr th {\n",
       "        vertical-align: top;\n",
       "    }\n",
       "\n",
       "    .dataframe thead th {\n",
       "        text-align: right;\n",
       "    }\n",
       "</style>\n",
       "<table border=\"1\" class=\"dataframe\">\n",
       "  <thead>\n",
       "    <tr style=\"text-align: right;\">\n",
       "      <th></th>\n",
       "      <th>Print</th>\n",
       "      <th>TV</th>\n",
       "      <th>SEO</th>\n",
       "      <th>AdWords</th>\n",
       "      <th>Facebook</th>\n",
       "      <th>LinkedIn</th>\n",
       "      <th>Instagram</th>\n",
       "      <th>Snapchat</th>\n",
       "      <th>Twitter</th>\n",
       "      <th>Email</th>\n",
       "    </tr>\n",
       "  </thead>\n",
       "  <tbody>\n",
       "    <tr>\n",
       "      <th>Jan</th>\n",
       "      <td>3.000000</td>\n",
       "      <td>0.0</td>\n",
       "      <td>0.0</td>\n",
       "      <td>1.333333</td>\n",
       "      <td>0.000000</td>\n",
       "      <td>0.000000</td>\n",
       "      <td>2.666667</td>\n",
       "      <td>0.0</td>\n",
       "      <td>0.000000</td>\n",
       "      <td>3.000000</td>\n",
       "    </tr>\n",
       "    <tr>\n",
       "      <th>Feb</th>\n",
       "      <td>3.000000</td>\n",
       "      <td>0.0</td>\n",
       "      <td>0.0</td>\n",
       "      <td>2.395500</td>\n",
       "      <td>3.000000</td>\n",
       "      <td>0.000000</td>\n",
       "      <td>0.000000</td>\n",
       "      <td>0.0</td>\n",
       "      <td>1.791000</td>\n",
       "      <td>0.000000</td>\n",
       "    </tr>\n",
       "    <tr>\n",
       "      <th>Mar</th>\n",
       "      <td>0.000000</td>\n",
       "      <td>0.0</td>\n",
       "      <td>0.0</td>\n",
       "      <td>3.000000</td>\n",
       "      <td>0.000000</td>\n",
       "      <td>3.000000</td>\n",
       "      <td>1.389648</td>\n",
       "      <td>0.0</td>\n",
       "      <td>3.000000</td>\n",
       "      <td>0.000000</td>\n",
       "    </tr>\n",
       "    <tr>\n",
       "      <th>Apr</th>\n",
       "      <td>0.000000</td>\n",
       "      <td>0.0</td>\n",
       "      <td>0.0</td>\n",
       "      <td>3.000000</td>\n",
       "      <td>0.000000</td>\n",
       "      <td>3.000000</td>\n",
       "      <td>3.000000</td>\n",
       "      <td>0.0</td>\n",
       "      <td>1.596856</td>\n",
       "      <td>0.000000</td>\n",
       "    </tr>\n",
       "    <tr>\n",
       "      <th>May</th>\n",
       "      <td>1.804100</td>\n",
       "      <td>0.0</td>\n",
       "      <td>0.0</td>\n",
       "      <td>0.000000</td>\n",
       "      <td>0.000000</td>\n",
       "      <td>0.000000</td>\n",
       "      <td>3.000000</td>\n",
       "      <td>0.0</td>\n",
       "      <td>3.000000</td>\n",
       "      <td>3.000000</td>\n",
       "    </tr>\n",
       "    <tr>\n",
       "      <th>Jun</th>\n",
       "      <td>3.000000</td>\n",
       "      <td>0.0</td>\n",
       "      <td>0.0</td>\n",
       "      <td>0.000000</td>\n",
       "      <td>0.000000</td>\n",
       "      <td>0.000000</td>\n",
       "      <td>3.000000</td>\n",
       "      <td>0.0</td>\n",
       "      <td>2.020172</td>\n",
       "      <td>3.000000</td>\n",
       "    </tr>\n",
       "    <tr>\n",
       "      <th>Jul</th>\n",
       "      <td>1.123777</td>\n",
       "      <td>0.0</td>\n",
       "      <td>0.0</td>\n",
       "      <td>3.000000</td>\n",
       "      <td>1.123777</td>\n",
       "      <td>0.000000</td>\n",
       "      <td>3.000000</td>\n",
       "      <td>0.0</td>\n",
       "      <td>3.000000</td>\n",
       "      <td>0.000000</td>\n",
       "    </tr>\n",
       "    <tr>\n",
       "      <th>Aug</th>\n",
       "      <td>3.000000</td>\n",
       "      <td>0.0</td>\n",
       "      <td>0.0</td>\n",
       "      <td>1.827294</td>\n",
       "      <td>0.000000</td>\n",
       "      <td>0.654588</td>\n",
       "      <td>0.000000</td>\n",
       "      <td>0.0</td>\n",
       "      <td>3.000000</td>\n",
       "      <td>3.000000</td>\n",
       "    </tr>\n",
       "    <tr>\n",
       "      <th>Sep</th>\n",
       "      <td>1.362933</td>\n",
       "      <td>0.0</td>\n",
       "      <td>0.0</td>\n",
       "      <td>3.000000</td>\n",
       "      <td>0.000000</td>\n",
       "      <td>3.000000</td>\n",
       "      <td>0.000000</td>\n",
       "      <td>0.0</td>\n",
       "      <td>3.000000</td>\n",
       "      <td>1.362933</td>\n",
       "    </tr>\n",
       "    <tr>\n",
       "      <th>Oct</th>\n",
       "      <td>0.000000</td>\n",
       "      <td>0.0</td>\n",
       "      <td>0.0</td>\n",
       "      <td>3.000000</td>\n",
       "      <td>0.000000</td>\n",
       "      <td>3.000000</td>\n",
       "      <td>3.000000</td>\n",
       "      <td>0.0</td>\n",
       "      <td>0.000000</td>\n",
       "      <td>2.955475</td>\n",
       "    </tr>\n",
       "    <tr>\n",
       "      <th>Nov</th>\n",
       "      <td>3.000000</td>\n",
       "      <td>0.0</td>\n",
       "      <td>0.0</td>\n",
       "      <td>2.056421</td>\n",
       "      <td>0.000000</td>\n",
       "      <td>1.112842</td>\n",
       "      <td>3.000000</td>\n",
       "      <td>0.0</td>\n",
       "      <td>0.000000</td>\n",
       "      <td>3.000000</td>\n",
       "    </tr>\n",
       "    <tr>\n",
       "      <th>Dec</th>\n",
       "      <td>3.000000</td>\n",
       "      <td>3.0</td>\n",
       "      <td>0.0</td>\n",
       "      <td>0.427951</td>\n",
       "      <td>3.000000</td>\n",
       "      <td>0.000000</td>\n",
       "      <td>0.000000</td>\n",
       "      <td>0.0</td>\n",
       "      <td>0.000000</td>\n",
       "      <td>3.000000</td>\n",
       "    </tr>\n",
       "  </tbody>\n",
       "</table>\n",
       "</div>"
      ],
      "text/plain": [
       "        Print   TV  SEO   AdWords  Facebook  LinkedIn  Instagram  Snapchat  \\\n",
       "Jan  3.000000  0.0  0.0  1.333333  0.000000  0.000000   2.666667       0.0   \n",
       "Feb  3.000000  0.0  0.0  2.395500  3.000000  0.000000   0.000000       0.0   \n",
       "Mar  0.000000  0.0  0.0  3.000000  0.000000  3.000000   1.389648       0.0   \n",
       "Apr  0.000000  0.0  0.0  3.000000  0.000000  3.000000   3.000000       0.0   \n",
       "May  1.804100  0.0  0.0  0.000000  0.000000  0.000000   3.000000       0.0   \n",
       "Jun  3.000000  0.0  0.0  0.000000  0.000000  0.000000   3.000000       0.0   \n",
       "Jul  1.123777  0.0  0.0  3.000000  1.123777  0.000000   3.000000       0.0   \n",
       "Aug  3.000000  0.0  0.0  1.827294  0.000000  0.654588   0.000000       0.0   \n",
       "Sep  1.362933  0.0  0.0  3.000000  0.000000  3.000000   0.000000       0.0   \n",
       "Oct  0.000000  0.0  0.0  3.000000  0.000000  3.000000   3.000000       0.0   \n",
       "Nov  3.000000  0.0  0.0  2.056421  0.000000  1.112842   3.000000       0.0   \n",
       "Dec  3.000000  3.0  0.0  0.427951  3.000000  0.000000   0.000000       0.0   \n",
       "\n",
       "      Twitter     Email  \n",
       "Jan  0.000000  3.000000  \n",
       "Feb  1.791000  0.000000  \n",
       "Mar  3.000000  0.000000  \n",
       "Apr  1.596856  0.000000  \n",
       "May  3.000000  3.000000  \n",
       "Jun  2.020172  3.000000  \n",
       "Jul  3.000000  0.000000  \n",
       "Aug  3.000000  3.000000  \n",
       "Sep  3.000000  1.362933  \n",
       "Oct  0.000000  2.955475  \n",
       "Nov  0.000000  3.000000  \n",
       "Dec  0.000000  3.000000  "
      ]
     },
     "execution_count": 47,
     "metadata": {},
     "output_type": "execute_result"
    }
   ],
   "source": [
    "budget = 10\n",
    "allocation = []\n",
    "\n",
    "for i in range(12):\n",
    "    obj = np.array(df1.iloc[i])\n",
    "    b = np.array([budget,3,3,3,3,3,3,3,3,3,3,0,0])\n",
    "    sense = np.array(['<','<','<','<','<','<','<','<','<','<','<','<','<'])\n",
    "    ojModel = gp.Model()\n",
    "\n",
    "    ojModX = ojModel.addMVar(10)\n",
    "    ojModCon = ojModel.addMConstrs(A, ojModX, sense, b)\n",
    "    ojModel.setMObjective(None,obj,0,sense=gp.GRB.MAXIMIZE)\n",
    "\n",
    "    ojModel.Params.OutputFlag = 0\n",
    "    ojModel.optimize()\n",
    "    ojModel.objVal\n",
    "    allocation.append(ojModX.x)\n",
    "    ror = (ojModel.objVal*0.5)\n",
    "    budget = budget + ror\n",
    "    \n",
    "months = ['Jan','Feb','Mar','Apr','May','Jun','Jul','Aug','Sep','Oct','Nov','Dec']\n",
    "opt_allocation = pd.DataFrame(allocation, index=months, columns=df.columns[1:] )\n",
    "opt_allocation"
   ]
  },
  {
   "cell_type": "markdown",
   "metadata": {},
   "source": [
    "# Question 8"
   ]
  },
  {
   "cell_type": "code",
   "execution_count": null,
   "metadata": {},
   "outputs": [],
   "source": []
  }
 ],
 "metadata": {
  "kernelspec": {
   "display_name": "Python 3",
   "language": "python",
   "name": "python3"
  },
  "language_info": {
   "codemirror_mode": {
    "name": "ipython",
    "version": 3
   },
   "file_extension": ".py",
   "mimetype": "text/x-python",
   "name": "python",
   "nbconvert_exporter": "python",
   "pygments_lexer": "ipython3",
   "version": "3.7.3"
  }
 },
 "nbformat": 4,
 "nbformat_minor": 2
}
